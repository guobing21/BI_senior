{
 "cells": [
  {
   "cell_type": "markdown",
   "metadata": {},
   "source": [
    "## 9.1 模型融合示例"
   ]
  },
  {
   "cell_type": "code",
   "execution_count": 8,
   "metadata": {},
   "outputs": [],
   "source": [
    "from sklearn.model_selection import train_test_split\n",
    "from sklearn.model_selection import GridSearchCV\n",
    "import lightgbm as lgb\n",
    "from sklearn.metrics import mean_absolute_error, mean_squared_error\n",
    "import pandas as pd"
   ]
  },
  {
   "cell_type": "code",
   "execution_count": 1,
   "metadata": {},
   "outputs": [],
   "source": [
    "# 3个模型的预测结果\n",
    "predict1 = [1.2, 3.2, 2.1, 6.2]\n",
    "predict2 = [0.9, 3.1, 2.0, 5.9]\n",
    "predict3 = [1.1, 2.9, 2.2, 6.0]"
   ]
  },
  {
   "cell_type": "code",
   "execution_count": 2,
   "metadata": {},
   "outputs": [],
   "source": [
    "# 真实值\n",
    "y_true = [1, 3, 2, 6]"
   ]
  },
  {
   "cell_type": "code",
   "execution_count": 5,
   "metadata": {},
   "outputs": [
    {
     "name": "stdout",
     "output_type": "stream",
     "text": [
      "predict1 MAE： 0.1750000000000001\n",
      "predict2 MAE： 0.07499999999999993\n",
      "predict3 MAE： 0.10000000000000009\n"
     ]
    }
   ],
   "source": [
    "# 计算每个模型的MAE\n",
    "print(\"predict1 MAE：\", mean_absolute_error(y_true, predict1))\n",
    "print(\"predict2 MAE：\", mean_absolute_error(y_true, predict2))\n",
    "print(\"predict3 MAE：\", mean_absolute_error(y_true, predict3))"
   ]
  },
  {
   "cell_type": "code",
   "execution_count": 6,
   "metadata": {},
   "outputs": [],
   "source": [
    "# 定义加权函数\n",
    "def weighted_meathod(predict1, predict2, predict3, w=[1/3, 1/3, 1/3]):\n",
    "    res = w[0]*pd.Series(predict1) + w[1]*pd.Series(predict2) + w[2]*pd.Series(predict3)\n",
    "    return res"
   ]
  },
  {
   "cell_type": "code",
   "execution_count": 9,
   "metadata": {},
   "outputs": [
    {
     "name": "stdout",
     "output_type": "stream",
     "text": [
      "predict weighted MAE： 0.0666666666666666\n"
     ]
    }
   ],
   "source": [
    "w = [1/3, 1/3, 1/3]\n",
    "weighted_predict = weighted_meathod(predict1, predict2, predict3, w)\n",
    "print(\"predict weighted MAE：\", mean_absolute_error(y_true, weighted_predict))"
   ]
  },
  {
   "cell_type": "code",
   "execution_count": 10,
   "metadata": {},
   "outputs": [
    {
     "name": "stdout",
     "output_type": "stream",
     "text": [
      "predict weighted MAE： 0.05750000000000027\n"
     ]
    }
   ],
   "source": [
    "w = [0.3, 0.4, 0.3]\n",
    "weighted_predict = weighted_meathod(predict1, predict2, predict3, w)\n",
    "print(\"predict weighted MAE：\", mean_absolute_error(y_true, weighted_predict))"
   ]
  },
  {
   "cell_type": "code",
   "execution_count": 11,
   "metadata": {},
   "outputs": [
    {
     "name": "stdout",
     "output_type": "stream",
     "text": [
      "predict1 MSE： 0.032500000000000036\n",
      "predict2 MSE： 0.007499999999999985\n",
      "predict3 MSE： 0.015000000000000027\n"
     ]
    }
   ],
   "source": [
    "# 计算每个模型的MSE\n",
    "print(\"predict1 MSE：\", mean_squared_error(y_true, predict1))\n",
    "print(\"predict2 MSE：\", mean_squared_error(y_true, predict2))\n",
    "print(\"predict3 MSE：\", mean_squared_error(y_true, predict3))"
   ]
  },
  {
   "cell_type": "code",
   "execution_count": 12,
   "metadata": {},
   "outputs": [
    {
     "name": "stdout",
     "output_type": "stream",
     "text": [
      "predict weighted MSE： 0.00397500000000003\n"
     ]
    }
   ],
   "source": [
    "w = [0.3, 0.4, 0.3]\n",
    "weighted_predict = weighted_meathod(predict1, predict2, predict3, w)\n",
    "print(\"predict weighted MSE：\", mean_squared_error(y_true, weighted_predict))"
   ]
  },
  {
   "cell_type": "markdown",
   "metadata": {},
   "source": [
    "**三个臭皮匠，顶个诸葛亮**"
   ]
  },
  {
   "cell_type": "markdown",
   "metadata": {},
   "source": [
    "## 9.2 iris分类模型融合 "
   ]
  },
  {
   "cell_type": "markdown",
   "metadata": {},
   "source": [
    "#### 1 加载数据"
   ]
  },
  {
   "cell_type": "code",
   "execution_count": 25,
   "metadata": {},
   "outputs": [],
   "source": [
    "from sklearn.datasets import load_iris\n",
    "from sklearn.model_selection import train_test_split\n",
    "from sklearn.linear_model import LogisticRegression\n",
    "from sklearn.svm import SVC\n",
    "from sklearn.ensemble import RandomForestClassifier, VotingClassifier\n",
    "from sklearn.model_selection import cross_val_score"
   ]
  },
  {
   "cell_type": "code",
   "execution_count": 15,
   "metadata": {},
   "outputs": [],
   "source": [
    "iris = load_iris()\n",
    "x = iris.data\n",
    "y = iris.target"
   ]
  },
  {
   "cell_type": "code",
   "execution_count": 16,
   "metadata": {},
   "outputs": [
    {
     "data": {
      "text/plain": [
       "((150, 4), (150,))"
      ]
     },
     "execution_count": 16,
     "metadata": {},
     "output_type": "execute_result"
    }
   ],
   "source": [
    "x.shape, y.shape"
   ]
  },
  {
   "cell_type": "markdown",
   "metadata": {},
   "source": [
    "#### 2 数据集切分"
   ]
  },
  {
   "cell_type": "code",
   "execution_count": 19,
   "metadata": {},
   "outputs": [],
   "source": [
    "x_train, x_test, y_train, y_test = train_test_split(x, y, test_size=0.3)"
   ]
  },
  {
   "cell_type": "markdown",
   "metadata": {},
   "source": [
    "#### 3 三种模型训练"
   ]
  },
  {
   "cell_type": "code",
   "execution_count": 33,
   "metadata": {},
   "outputs": [],
   "source": [
    "model1 = LogisticRegression(C=0.1)\n",
    "model2 = SVC(C=0.1, probability=True) # 软投票时，需要设置probability=True\n",
    "model3 = RandomForestClassifier(n_estimators=10, max_depth=2)"
   ]
  },
  {
   "cell_type": "markdown",
   "metadata": {},
   "source": [
    "#### 4 硬投票"
   ]
  },
  {
   "cell_type": "code",
   "execution_count": 24,
   "metadata": {},
   "outputs": [],
   "source": [
    "ensemble_model = VotingClassifier(estimators=[(\"LR\", model1), (\"SVC\", model2), (\"RF\", model3)])"
   ]
  },
  {
   "cell_type": "code",
   "execution_count": 32,
   "metadata": {},
   "outputs": [
    {
     "name": "stdout",
     "output_type": "stream",
     "text": [
      "Accuarcy: 0.95 (+/- 0.05) [LR]\n",
      "Accuarcy: 0.92 (+/- 0.03) [SVC]\n",
      "Accuarcy: 0.95 (+/- 0.03) [RF]\n",
      "Accuarcy: 0.95 (+/- 0.03) [Voting]\n"
     ]
    }
   ],
   "source": [
    "for model , label in zip([model1, model2, model3, ensemble_model], [\"LR\", \"SVC\", \"RF\", \"Voting\"]):\n",
    "    scores = cross_val_score(model, x, y, cv=5, scoring=\"accuracy\")\n",
    "    print(\"Accuarcy: {:.2f} (+/- {:.2f}) [{}]\".format(scores.mean(), scores.std(), label))"
   ]
  },
  {
   "cell_type": "code",
   "execution_count": null,
   "metadata": {},
   "outputs": [],
   "source": []
  }
 ],
 "metadata": {
  "kernelspec": {
   "display_name": "lgb_02",
   "language": "python",
   "name": "lgb_02"
  },
  "language_info": {
   "codemirror_mode": {
    "name": "ipython",
    "version": 3
   },
   "file_extension": ".py",
   "mimetype": "text/x-python",
   "name": "python",
   "nbconvert_exporter": "python",
   "pygments_lexer": "ipython3",
   "version": "3.6.2"
  }
 },
 "nbformat": 4,
 "nbformat_minor": 2
}

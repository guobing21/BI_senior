{
 "cells": [
  {
   "cell_type": "code",
   "execution_count": 1,
   "metadata": {},
   "outputs": [],
   "source": [
    "from datasketch import MinHash, MinHashLSH, MinHashLSHForest\n",
    "from sklearn.feature_extraction.text import TfidfVectorizer\n",
    "import jieba.posseg as pseg\n",
    "import re"
   ]
  },
  {
   "cell_type": "markdown",
   "metadata": {},
   "source": [
    "## 1 读取文件"
   ]
  },
  {
   "cell_type": "code",
   "execution_count": 2,
   "metadata": {},
   "outputs": [],
   "source": [
    "f = open('./weibos.txt', 'r', encoding='UTF-8')\n",
    "text = f.read()"
   ]
  },
  {
   "cell_type": "code",
   "execution_count": 3,
   "metadata": {},
   "outputs": [],
   "source": [
    "sentences = re.split('[。！？]', text.replace('\\n', ''))"
   ]
  },
  {
   "cell_type": "code",
   "execution_count": 4,
   "metadata": {},
   "outputs": [],
   "source": [
    "if sentences[len(sentences)-1] == '':\n",
    "    sentences.pop()"
   ]
  },
  {
   "cell_type": "code",
   "execution_count": 5,
   "metadata": {},
   "outputs": [
    {
     "data": {
      "text/plain": [
       "['#斯科拉里愿意执教国足#上一届如果是里皮从头芾到尾，是很大机会入世界杯的，这一届，没几个能用的，除非大力归化，谁来都没用',\n",
       " ' \\u200b国足输给叙利亚之后，里皮辞职',\n",
       " '谁将成为新主帅，成为广大球迷关注的焦点',\n",
       " '目前舆论方面，倾向于三个人：山东鲁能主帅李霄鹏、武汉卓尔主帅李铁、前广州恒大主帅斯科拉里',\n",
       " ' \\u200b据了解，无论中国足协态度如何，里皮其实在宣布请辞同时已经去意已决',\n",
       " '据了解',\n",
       " '比赛当晚，他的太太西蒙内塔女士及儿子小里皮都在现场看台上观战',\n",
       " '辞职后的里皮没有改变原有的计划——赛后第二天他会从迪拜直接飞回意大利',\n",
       " '这意味着，他本来也没打算与球队管理层或中国足协高层在赛后第一时间内进行有关辞职的对话',\n",
       " '至于辞职以后的善后工作包括合同问题的沟通工作也要待日后双方进一步协商',\n",
       " '让我们回顾一下国足历届外籍教练——里皮，佩兰，卡马乔，杜伊科维奇，阿里·汉，米卢……',\n",
       " '来之前一个比一个有名，来之后一个比一个水，国足踢不好完全是足协的问题，足协不解散重组，你把天王老子请来都不行斯科拉里想执教中国国足',\n",
       " '老头有点意思，凡是里皮干过的地方，他就想试试',\n",
       " '当然，老头也是世界杯冠军教头，万一折在中国这里也没啥丢人的，毕竟里皮也折了嘛',\n",
       " '可以试试',\n",
       " '斯科拉里的水平，还不如里皮',\n",
       " '斯科拉里，看好的不是国足，而是年薪…… \\u200b非常应该辞职',\n",
       " '中国足球，不需要名帅，也不需要外籍教练，因为一点儿毛用也没有',\n",
       " '从施拉普纳到现在，二十余年间，中国足球竟然大踏步的倒退，一点儿也杀不住车，奶奶的，刹车系统坏了',\n",
       " '穿着几百块钱的球衣，几千块钱的球鞋，几万块钱的包，几十万的包机，几百万上千万的年薪赛后，叙利亚主教练在更衣室里给每个队员一个耳光',\n",
       " '主教练说：“赛前老子就再三交代，这一场无论如何都不能赢中国队',\n",
       " '中国援助了我们那么多粮食和美金，如果他们不再援助我们国家，你狗日些要吃土去',\n",
       " '”，球员委屈的说：“七十多分钟了，哪个晓得那个龟儿子往他们家球门踢嘛',\n",
       " '”里皮辞职返回意大利，他的助教马达洛尼随队返回广州',\n",
       " '马达洛尼在接受采访时还原了当时更衣室中的情况：“当时在更衣室，球员们都过来试图说服里皮，让他收回决定，队长郑智尝试阻止他，足协的代表也希望他在考虑一下，我也建议他重新考虑，但无济于事',\n",
       " '”中国足协：接受里皮辞职请求，将深刻反思看了个报道，马达洛尼说：“关于里皮的辞职，我事先也没有被告知，自己也不清楚发生了什么，也许是里皮头脑一热的决定',\n",
       " '足协也可以留下我们，教练组所有成员都愿意留下，我们也可以和其他教练合作',\n",
       " '” \\u200b因为中国队给斯科拉里开足了薪水，给足了他需要的条件',\n",
       " '尤其是最后一句话，看好中国队的潜力，这句话真是太鼓舞人心啦',\n",
       " ' \\u200b带队结果绝不会比里皮更差， \\u200b而且我一定能带国足夺得2022世界杯冠军',\n",
       " '大家支持斯科拉里不',\n",
       " ' \\u200b曾经也以为世界名帅里皮能够带领国足走出迷茫，让国足蒸蒸日上，也让我们国人不再迷茫，吃下一颗定心丸',\n",
       " '现在我才知道，其实最应改变的不是教练，而是我们的国足，我们的训练机制、学习机制、培养机制',\n",
       " '只有真正做好这些，才能使无论哪位名帅接手都能游刃有余地打好比赛',\n",
       " '国足输给叙利亚后，里皮坐不住了，直接辞职了难怪有网友说，爱护生命，远离男足',\n",
       " '男足的水平也就跟南极洲企鹅踢球',\n",
       " '足协主席赠书《红星照我去战斗》送给中国国脚，埃尔克森、里皮懂红色文化吗',\n",
       " '国足昨晚1-2输给叙利亚，赛后主帅里皮宣布辞职']"
      ]
     },
     "execution_count": 5,
     "metadata": {},
     "output_type": "execute_result"
    }
   ],
   "source": [
    "sentences"
   ]
  },
  {
   "cell_type": "markdown",
   "metadata": {},
   "source": [
    "## 2 分词"
   ]
  },
  {
   "cell_type": "code",
   "execution_count": 6,
   "metadata": {},
   "outputs": [],
   "source": [
    "def get_item_str(item_text):\n",
    "    item_str = \"\" \n",
    "    item=(pseg.cut(item_text)) \n",
    "    for i in list(item):\n",
    "        #去掉停用词\n",
    "        if i.word not in list(stop):  \n",
    "            item_str += i.word\n",
    "            #tfidf_vectorizer.fit_transform的输入需要空格分隔的单词\n",
    "            item_str += \" \"\n",
    "    return item_str"
   ]
  },
  {
   "cell_type": "markdown",
   "metadata": {},
   "source": [
    "## 3 对item_str创建MinHash"
   ]
  },
  {
   "cell_type": "code",
   "execution_count": 7,
   "metadata": {},
   "outputs": [],
   "source": [
    "def get_minhash(item_str):\n",
    "    temp = MinHash()\n",
    "    for d in item_str:\n",
    "        temp.update(d.encode('utf8'))\n",
    "    return temp"
   ]
  },
  {
   "cell_type": "markdown",
   "metadata": {},
   "source": [
    "## 4 得到分词后的documents"
   ]
  },
  {
   "cell_type": "code",
   "execution_count": 8,
   "metadata": {},
   "outputs": [],
   "source": [
    "stop = [line.strip().decode('utf-8') for line in open('stopword.txt').readlines()]"
   ]
  },
  {
   "cell_type": "code",
   "execution_count": 9,
   "metadata": {},
   "outputs": [
    {
     "name": "stderr",
     "output_type": "stream",
     "text": [
      "Building prefix dict from the default dictionary ...\n",
      "Loading model from cache C:\\Users\\LGB\\AppData\\Local\\Temp\\jieba.cache\n",
      "Loading model cost 0.747 seconds.\n",
      "Prefix dict has been built successfully.\n"
     ]
    }
   ],
   "source": [
    "documents = []\n",
    "for item_text in sentences:\n",
    "    # 将item_text进行分词\n",
    "    item_str = get_item_str(item_text)\n",
    "    documents.append(item_str)"
   ]
  },
  {
   "cell_type": "code",
   "execution_count": 10,
   "metadata": {},
   "outputs": [
    {
     "data": {
      "text/plain": [
       "['# 斯科拉里 愿意 执教 国足 # 上 一届 如果 是 里 皮 从头 芾 到 尾 ， 是 很大 机会 入 世界杯 的 ， 这 一届 ， 没 几个 能用 的 ， 除非 大力 归化 ， 谁 来 都 没用 ',\n",
       " '  \\u200b 国 足 输给 叙利亚 之后 ， 里 皮 辞职 ',\n",
       " '谁 将 成为 新 主帅 ， 成为 广大 球迷 关注 的 焦点 ',\n",
       " '目前 舆论 方面 ， 倾向 于 三个 人 ： 山东鲁能 主帅 李霄鹏 、 武汉 卓尔 主帅 李铁 、 前 广州 恒大 主帅 斯科拉里 ',\n",
       " '  \\u200b 据 了解 ， 无论 中国足协 态度 如何 ， 里 皮 其实 在 宣布 请辞 同时 已经 去 意 已 决 ',\n",
       " '据 了解 ',\n",
       " '比赛 当晚 ， 他 的 太太 西蒙内塔 女士 及 儿子 小里皮 都 在 现场 看 台上 观战 ',\n",
       " '辞职 后 的 里皮 没有 改变 原有 的 计划 — — 赛后 第二天 他 会 从 迪拜 直接 飞 回 意大利 ',\n",
       " '这 意味着 ， 他 本来 也 没 打算 与 球队 管理层 或 中国足协 高层 在 赛后 第一 时间 内 进行 有关 辞职 的 对话 ',\n",
       " '至于 辞职 以后 的 善后工作 包括 合同 问题 的 沟通 工作 也 要待 日后 双方 进一步 协商 ',\n",
       " '让 我们 回顾 一下 国 足 历届 外籍 教练 — — 里 皮 ， 佩兰 ， 卡马乔 ， 杜伊 科维奇 ， 阿里 · 汉 ， 米卢 … … ',\n",
       " '来 之前 一个 比 一个 有名 ， 来 之后 一个 比 一个 水 ， 国足 踢 不好 完全 是 足协 的 问题 ， 足协 不 解散 重组 ， 你 把 天王老子 请来 都 不行 斯科拉里 想 执教 中国 国 足 ',\n",
       " '老头 有点 意思 ， 凡是 里 皮 干 过 的 地方 ， 他 就 想 试试 ',\n",
       " '当然 ， 老头 也 是 世界杯 冠军 教头 ， 万一 折 在 中国 这里 也 没 啥 丢人 的 ， 毕竟 里 皮 也 折 了 嘛 ',\n",
       " '可以 试试 ',\n",
       " '斯科拉里 的 水平 ， 还 不如 里 皮 ',\n",
       " '斯科拉里 ， 看好 的 不是 国 足 ， 而是 年薪 … …   \\u200b 非常 应该 辞职 ',\n",
       " '中国 足球 ， 不 需要 名帅 ， 也 不 需要 外籍 教练 ， 因为 一点儿 毛用 也 没有 ',\n",
       " '从 施拉普纳 到 现在 ， 二十余年 间 ， 中国 足球 竟然 大踏步 的 倒退 ， 一点儿 也 杀 不住 车 ， 奶奶 的 ， 刹车 系统 坏 了 ',\n",
       " '穿着 几百块 钱 的 球衣 ， 几千块 钱 的 球鞋 ， 几万块 钱 的 包 ， 几十万 的 包机 ， 几百万 上 千万 的 年薪 赛后 ， 叙利亚 主教练 在 更衣室 里 给 每个 队员 一个 耳光 ',\n",
       " '主教练 说 ： “ 赛前 老子 就 再三 交代 ， 这 一场 无论如何 都 不能 赢 中国队 ',\n",
       " '中国 援助 了 我们 那么 多 粮食 和 美金 ， 如果 他们 不再 援助 我们 国家 ， 你 狗日 些 要 吃 土 去 ',\n",
       " '” ， 球员 委屈 的 说 ： “ 七十多 分钟 了 ， 哪个 晓得 那个 龟儿子 往 他们 家 球门 踢 嘛 ',\n",
       " '” 里 皮 辞职 返回 意大利 ， 他 的 助教 马达 洛尼 随队 返回 广州 ',\n",
       " '马达 洛尼 在 接受 采访 时 还原 了 当时 更衣室 中 的 情况 ： “ 当时 在 更衣室 ， 球员 们 都 过来 试图 说服 里 皮 ， 让 他 收回 决定 ， 队长 郑智 尝试 阻止 他 ， 足协 的 代表 也 希望 他 在 考虑一下 ， 我 也 建议 他 重新考虑 ， 但 无济于事 ',\n",
       " '” 中国足协 ： 接受 里 皮 辞职 请求 ， 将 深刻反思 看 了 个 报道 ， 马达 洛尼 说 ： “ 关于 里 皮 的 辞职 ， 我 事先 也 没有 被 告知 ， 自己 也 不 清楚 发生 了 什么 ， 也许 是 里 皮 头脑 一热 的 决定 ',\n",
       " '足协 也 可以 留下 我们 ， 教练组 所有 成员 都 愿意 留下 ， 我们 也 可以 和 其他 教练 合作 ',\n",
       " '”   \\u200b 因为 中国队 给 斯科拉里 开足 了 薪水 ， 给 足 了 他 需要 的 条件 ',\n",
       " '尤其 是 最后 一句 话 ， 看好 中国队 的 潜力 ， 这 句 话 真是太 鼓舞人心 啦 ',\n",
       " '  \\u200b 带队 结果 绝不会 比里皮 更 差 ，   \\u200b 而且 我 一定 能带 国 足 夺得 2022 世界杯 冠军 ',\n",
       " '大家 支持 斯科拉里 不 ',\n",
       " '  \\u200b 曾经 也 以为 世界 名帅 里 皮 能够 带领 国 足 走出 迷茫 ， 让 国足 蒸蒸日上 ， 也 让 我们 国人 不再 迷茫 ， 吃 下 一颗 定心丸 ',\n",
       " '现在 我 才 知道 ， 其实 最 应 改变 的 不是 教练 ， 而是 我们 的 国足 ， 我们 的 训练 机制 、 学习 机制 、 培养 机制 ',\n",
       " '只有 真正 做好 这些 ， 才能 使 无论 哪位 名帅 接手 都 能 游刃有余 地 打好 比赛 ',\n",
       " '国 足 输给 叙利亚 后 ， 里 皮 坐不住 了 ， 直接 辞职 了 难怪 有 网友 说 ， 爱护 生命 ， 远离 男足 ',\n",
       " '男足 的 水平 也 就 跟 南极洲 企鹅 踢球 ',\n",
       " '足协 主席 赠书 《 红星 照 我 去 战斗 》 送给 中国 国脚 ， 埃 尔克 森 、 里 皮 懂 红色 文化 吗 ',\n",
       " '国 足 昨晚 1 - 2 输给 叙利亚 ， 赛后 主帅 里 皮 宣布 辞职 ']"
      ]
     },
     "execution_count": 10,
     "metadata": {},
     "output_type": "execute_result"
    }
   ],
   "source": [
    "documents"
   ]
  },
  {
   "cell_type": "markdown",
   "metadata": {},
   "source": [
    "## 5 创建LSH Forest及MinHash对象"
   ]
  },
  {
   "cell_type": "code",
   "execution_count": 11,
   "metadata": {},
   "outputs": [],
   "source": [
    "minhash_list = []\n",
    "forest = MinHashLSHForest()\n",
    "for i in range(len(documents)):\n",
    "    #得到train_documents[i]的MinHash\n",
    "    temp = get_minhash(documents[i])\n",
    "    minhash_list.append(temp)\n",
    "    forest.add(i, temp)\n",
    "# index所有key，以便可以进行检索\n",
    "forest.index()"
   ]
  },
  {
   "cell_type": "markdown",
   "metadata": {},
   "source": [
    "## 6 针对某句话进行Query，查找Top-3相似的句子"
   ]
  },
  {
   "cell_type": "code",
   "execution_count": 12,
   "metadata": {},
   "outputs": [
    {
     "data": {
      "text/plain": [
       "'#斯科拉里愿意执教国足#上一届如果是里皮从头芾到尾，是很大机会入世界杯的，这一届，没几个能用的，除非大力归化，谁来都没用'"
      ]
     },
     "execution_count": 12,
     "metadata": {},
     "output_type": "execute_result"
    }
   ],
   "source": [
    "query = sentences[0]\n",
    "query"
   ]
  },
  {
   "cell_type": "code",
   "execution_count": 13,
   "metadata": {},
   "outputs": [],
   "source": [
    "item_str = get_item_str(query)\n",
    "minhash_query = get_minhash(item_str)"
   ]
  },
  {
   "cell_type": "code",
   "execution_count": 14,
   "metadata": {},
   "outputs": [
    {
     "name": "stdout",
     "output_type": "stream",
     "text": [
      "0 1.0 #斯科拉里愿意执教国足#上一届如果是里皮从头芾到尾，是很大机会入世界杯的，这一届，没几个能用的，除非大力归化，谁来都没用\n",
      "11 0.25 来之前一个比一个有名，来之后一个比一个水，国足踢不好完全是足协的问题，足协不解散重组，你把天王老子请来都不行斯科拉里想执教中国国足\n",
      "13 0.296875 当然，老头也是世界杯冠军教头，万一折在中国这里也没啥丢人的，毕竟里皮也折了嘛\n",
      "Top 3 邻居 [0, 11, 13]\n"
     ]
    }
   ],
   "source": [
    "result = forest.query(minhash_query, 3)\n",
    "for i in range(len(result)):\n",
    "    print(result[i], minhash_query.jaccard(minhash_list[result[i]]), documents[result[i]].replace(' ', ''))\n",
    "print(\"Top 3 邻居\", result)"
   ]
  },
  {
   "cell_type": "code",
   "execution_count": null,
   "metadata": {},
   "outputs": [],
   "source": []
  }
 ],
 "metadata": {
  "kernelspec": {
   "display_name": "lgb_02",
   "language": "python",
   "name": "lgb_02"
  },
  "language_info": {
   "codemirror_mode": {
    "name": "ipython",
    "version": 3
   },
   "file_extension": ".py",
   "mimetype": "text/x-python",
   "name": "python",
   "nbconvert_exporter": "python",
   "pygments_lexer": "ipython3",
   "version": "3.6.2"
  }
 },
 "nbformat": 4,
 "nbformat_minor": 4
}

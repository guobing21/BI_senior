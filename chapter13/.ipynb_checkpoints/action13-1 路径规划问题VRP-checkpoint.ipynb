{
 "cells": [
  {
   "cell_type": "markdown",
   "metadata": {},
   "source": [
    "### 13.1.1 单辆车的TSP问题"
   ]
  },
  {
   "cell_type": "markdown",
   "metadata": {},
   "source": [
    "从北京出发，经过其他城市，且仅一次"
   ]
  },
  {
   "cell_type": "code",
   "execution_count": 1,
   "metadata": {},
   "outputs": [],
   "source": [
    "import pandas as pd\n",
    "from ortools.constraint_solver import routing_enums_pb2\n",
    "from ortools.constraint_solver import pywrapcp"
   ]
  },
  {
   "cell_type": "markdown",
   "metadata": {},
   "source": [
    "#### 1 最简单的tsp类"
   ]
  },
  {
   "cell_type": "code",
   "execution_count": 2,
   "metadata": {},
   "outputs": [],
   "source": [
    "class tsp:\n",
    "    def __init__(self):\n",
    "        #设置城市名\n",
    "        self.df = pd.read_excel(\"./cities.xlsx\")\n",
    "        \n",
    "    def create_data_model(self):\n",
    "        data = {}\n",
    "        temp = pd.read_excel(\"./distance.xlsx\", index_col=0)\n",
    "#         print(temp)\n",
    "        data[\"distance_matrix\"] = temp.values / 100\n",
    "    \n",
    "        data['num_vehicles'] = 1\n",
    "        data['depot'] = 0\n",
    "        return data\n",
    "    \n",
    "    def print_solution(self, manager, routing, solution):\n",
    "#         print('总行驶里程: {} 公里'.format(solution.ObjectiveValue()))\n",
    "        index = routing.Start(0)\n",
    "        route = []\n",
    "        route_distance = 0\n",
    "        while not routing.IsEnd(index):\n",
    "            index = manager.IndexToNode(index)\n",
    "            route.append(index)\n",
    "            previous_index = index\n",
    "            index = solution.Value(routing.NextVar(index))\n",
    "            route_distance += routing.GetArcCostForVehicle(previous_index, index, 0)\n",
    "        return route, route_distance\n",
    "    \n",
    "    def work(self):\n",
    "        # 初始化数据\n",
    "        data = self.create_data_model()\n",
    "\n",
    "        # 创建路线管理，tsp_size（城市数量）, num_vehicles（车的数量）, depot（原点）\n",
    "        manager = pywrapcp.RoutingIndexManager(len(data['distance_matrix']),\n",
    "                                               data['num_vehicles'], data['depot'])\n",
    "\n",
    "        # 创建 Routing Model.\n",
    "        routing = pywrapcp.RoutingModel(manager)\n",
    "\n",
    "        # 计算两点之间的距离\n",
    "        def distance_callback(from_index, to_index):\n",
    "            # Convert from routing variable Index to distance matrix NodeIndex.\n",
    "            from_node = manager.IndexToNode(from_index)\n",
    "            to_node = manager.IndexToNode(to_index)\n",
    "            return data['distance_matrix'][from_node][to_node]\n",
    "\n",
    "        transit_callback_index = routing.RegisterTransitCallback(distance_callback)\n",
    "\n",
    "        # Define cost of each arc.\n",
    "        routing.SetArcCostEvaluatorOfAllVehicles(transit_callback_index)\n",
    "\n",
    "        # Setting first solution heuristic.\n",
    "        search_parameters = pywrapcp.DefaultRoutingSearchParameters()\n",
    "        search_parameters.first_solution_strategy = (\n",
    "            routing_enums_pb2.FirstSolutionStrategy.PATH_CHEAPEST_ARC)\n",
    "\n",
    "        # 求解路径规划\n",
    "        solution = routing.SolveWithParameters(search_parameters)\n",
    "        # 输出结果\n",
    "        route, route_distance = self.print_solution(manager, routing, solution)\n",
    "        return route, route_distance"
   ]
  },
  {
   "cell_type": "code",
   "execution_count": 3,
   "metadata": {},
   "outputs": [
    {
     "name": "stdout",
     "output_type": "stream",
     "text": [
      "[0, 6, 22, 21, 23, 24, 26, 27, 25, 12, 32, 11, 31, 30, 10, 9, 8, 15, 13, 28, 29, 14, 20, 17, 18, 19, 7, 5, 16, 1, 4, 2, 3]\n",
      "198151\n"
     ]
    }
   ],
   "source": [
    "model = tsp()\n",
    "route, route_distance = model.work()\n",
    "print(route)\n",
    "print(route_distance)"
   ]
  },
  {
   "cell_type": "markdown",
   "metadata": {},
   "source": [
    "#### 2 加入city_names的tsp类(只去部分城市)"
   ]
  },
  {
   "cell_type": "code",
   "execution_count": 4,
   "metadata": {},
   "outputs": [],
   "source": [
    "class tsp:\n",
    "    def __init__(self, city_names=None):\n",
    "        #设置城市名\n",
    "        self.df = pd.read_excel(\"./cities.xlsx\")\n",
    "        self.all_city = self.df[\"name\"].values\n",
    "        if city_names is not None:\n",
    "            self.city_names = city_names\n",
    "            self.df = self.df[self.df[\"name\"].isin(city_names)]\n",
    "        else:\n",
    "            self.city_names = self.all_city\n",
    "        \n",
    "    def create_data_model(self):\n",
    "        data = {}\n",
    "        temp = pd.read_excel(\"./distance.xlsx\", index_col=0)\n",
    "        # 按照self.city_names进行筛选\n",
    "        temp = temp[temp.index.isin(self.city_names)][self.city_names]\n",
    "#         print(temp)\n",
    "\n",
    "        data[\"distance_matrix\"] = temp.values / 1000\n",
    "    \n",
    "        data['num_vehicles'] = 1\n",
    "        data['depot'] = 0\n",
    "        return data\n",
    "    \n",
    "    def print_solution(self, manager, routing, solution):\n",
    "#         print('总行驶里程: {} 公里'.format(solution.ObjectiveValue()))\n",
    "        index = routing.Start(0)\n",
    "        route = []\n",
    "        route_distance = 0\n",
    "        while not routing.IsEnd(index):\n",
    "            index_show = manager.IndexToNode(index)\n",
    "            route.append(index_show)\n",
    "            previous_index = index\n",
    "            index = solution.Value(routing.NextVar(index))\n",
    "            route_distance += routing.GetArcCostForVehicle(previous_index, index, 0)\n",
    "        return route, route_distance\n",
    "    \n",
    "    def work(self):\n",
    "        # 初始化数据\n",
    "        data = self.create_data_model()\n",
    "\n",
    "        # 创建路线管理，tsp_size（城市数量）, num_vehicles（车的数量）, depot（原点）\n",
    "        manager = pywrapcp.RoutingIndexManager(len(data['distance_matrix']),\n",
    "                                               data['num_vehicles'], data['depot'])\n",
    "\n",
    "        # 创建 Routing Model.\n",
    "        routing = pywrapcp.RoutingModel(manager)\n",
    "\n",
    "        # 计算两点之间的距离\n",
    "        def distance_callback(from_index, to_index):\n",
    "            # Convert from routing variable Index to distance matrix NodeIndex.\n",
    "            from_node = manager.IndexToNode(from_index)\n",
    "            to_node = manager.IndexToNode(to_index)\n",
    "            return data['distance_matrix'][from_node][to_node]\n",
    "\n",
    "        transit_callback_index = routing.RegisterTransitCallback(distance_callback)\n",
    "\n",
    "        # Define cost of each arc.\n",
    "        routing.SetArcCostEvaluatorOfAllVehicles(transit_callback_index)\n",
    "\n",
    "        # Setting first solution heuristic.\n",
    "        search_parameters = pywrapcp.DefaultRoutingSearchParameters()\n",
    "        search_parameters.first_solution_strategy = (\n",
    "            routing_enums_pb2.FirstSolutionStrategy.PATH_CHEAPEST_ARC)\n",
    "\n",
    "        # 求解路径规划\n",
    "        solution = routing.SolveWithParameters(search_parameters)\n",
    "        # 输出结果\n",
    "        route, route_distance = self.print_solution(manager, routing, solution)\n",
    "        return route, route_distance"
   ]
  },
  {
   "cell_type": "code",
   "execution_count": 5,
   "metadata": {},
   "outputs": [
    {
     "name": "stdout",
     "output_type": "stream",
     "text": [
      "[0, 1, 2]\n",
      "2059\n"
     ]
    }
   ],
   "source": [
    "city_name = [\"北京\", \"天津\", \"南京\"]\n",
    "model = tsp(city_name)\n",
    "route, route_distance = model.work()\n",
    "print(route)\n",
    "print(route_distance)"
   ]
  },
  {
   "cell_type": "markdown",
   "metadata": {},
   "source": [
    "### 13.1.2 多辆车的路径规划VRP"
   ]
  },
  {
   "cell_type": "code",
   "execution_count": 15,
   "metadata": {},
   "outputs": [],
   "source": [
    "class tsp:\n",
    "    def __init__(self, city_names=None, num_vehicles=1):\n",
    "        #设置城市名\n",
    "        self.df = pd.read_excel(\"./cities.xlsx\")\n",
    "        self.all_city = self.df[\"name\"].values\n",
    "        self.num_vehicles = num_vehicles\n",
    "        if city_names is not None:\n",
    "            self.city_names = city_names\n",
    "            self.df = self.df[self.df[\"name\"].isin(city_names)]\n",
    "        else:\n",
    "            self.city_names = self.all_city\n",
    "        \n",
    "    def create_data_model(self):\n",
    "        data = {}\n",
    "        temp = pd.read_excel(\"./distance.xlsx\", index_col=0)\n",
    "        # 按照self.city_names进行筛选\n",
    "        temp = temp[temp.index.isin(self.city_names)][self.city_names]\n",
    "#         print(temp)\n",
    "\n",
    "        data[\"distance_matrix\"] = temp.values / 1000\n",
    "    \n",
    "        data['num_vehicles'] = self.num_vehicles\n",
    "        data['depot'] = 0\n",
    "        return data\n",
    "    \n",
    "    def get_solution(self, manager, routing, solution):\n",
    "#         print('总行驶里程: {} 公里'.format(solution.ObjectiveValue()))\n",
    "        # 记录每辆车的里程\n",
    "        distance_list = []\n",
    "        # 记录每辆车的路径规划\n",
    "        route_list = []\n",
    "        \n",
    "        # 遍历每辆车\n",
    "        for vehicle_id in range(self.num_vehicles):\n",
    "            # 初始化距离为0\n",
    "            route_distance = 0\n",
    "            route = []\n",
    "            # 从vehicle_id的起始点出发\n",
    "            index = routing.Start(vehicle_id)\n",
    "            \n",
    "            \n",
    "            while not routing.IsEnd(index):\n",
    "                index_show = manager.IndexToNode(index)\n",
    "                route.append(index_show)\n",
    "                previous_index = index\n",
    "                index = solution.Value(routing.NextVar(index))\n",
    "                route_distance += routing.GetArcCostForVehicle(previous_index, index, 0)\n",
    "                \n",
    "            route_list.append(route)\n",
    "            distance_list.append(route_distance)\n",
    "        return route_list, distance_list\n",
    "    \n",
    "     # 添加距离约束\n",
    "    def add_distance_dimension(self, routing, transit_callback_index):\n",
    "        \n",
    "        dimension_name = 'Distance'\n",
    "        routing.AddDimension(\n",
    "            transit_callback_index,\n",
    "            0,  # no slack\n",
    "            10000,  # 车辆最大行驶距离\n",
    "            True,  # start cumul to zero\n",
    "            dimension_name)\n",
    "        distance_dimension = routing.GetDimensionOrDie(dimension_name)\n",
    "        # 尽量减少车辆之间的最大距离\n",
    "        distance_dimension.SetGlobalSpanCostCoefficient(100)\n",
    "\n",
    "    \n",
    "    def work(self):\n",
    "        # 初始化数据\n",
    "        data = self.create_data_model()\n",
    "\n",
    "        # 创建路线管理，tsp_size（城市数量）, num_vehicles（车的数量）, depot（原点）\n",
    "        manager = pywrapcp.RoutingIndexManager(len(data['distance_matrix']),\n",
    "                                               data['num_vehicles'], data['depot'])\n",
    "\n",
    "        # 创建 Routing Model.\n",
    "        routing = pywrapcp.RoutingModel(manager)\n",
    "\n",
    "        # 计算两点之间的距离\n",
    "        def distance_callback(from_index, to_index):\n",
    "            # Convert from routing variable Index to distance matrix NodeIndex.\n",
    "            from_node = manager.IndexToNode(from_index)\n",
    "            to_node = manager.IndexToNode(to_index)\n",
    "            return data['distance_matrix'][from_node][to_node]\n",
    "\n",
    "        transit_callback_index = routing.RegisterTransitCallback(distance_callback)\n",
    "\n",
    "        # Define cost of each arc.\n",
    "        routing.SetArcCostEvaluatorOfAllVehicles(transit_callback_index)\n",
    "        \n",
    "        # 添加距离约束\n",
    "        self.add_distance_dimension(routing, transit_callback_index)\n",
    "        # Setting first solution heuristic.\n",
    "        search_parameters = pywrapcp.DefaultRoutingSearchParameters()\n",
    "        search_parameters.first_solution_strategy = (\n",
    "            routing_enums_pb2.FirstSolutionStrategy.PATH_CHEAPEST_ARC)\n",
    "\n",
    "        # 求解路径规划\n",
    "        solution = routing.SolveWithParameters(search_parameters)\n",
    "        # 输出结果\n",
    "        route, route_distance = self.get_solution(manager, routing, solution)\n",
    "        return route, route_distance"
   ]
  },
  {
   "cell_type": "code",
   "execution_count": 16,
   "metadata": {},
   "outputs": [
    {
     "name": "stdout",
     "output_type": "stream",
     "text": [
      "[[0, 7, 18, 19, 17, 22, 6], [0, 21], [0, 5, 20, 23, 24, 26, 27, 25, 12, 32, 11, 31, 30, 13, 16], [0, 14, 28, 29, 10, 9, 8, 15, 1, 4, 2, 3]]\n",
      "[6341, 7096, 6749, 6845]\n"
     ]
    }
   ],
   "source": [
    "city_name = [\"北京\", \"天津\", \"南京\"]\n",
    "model = tsp(num_vehicles=4)\n",
    "route, route_distance = model.work()\n",
    "print(route)\n",
    "print(route_distance)"
   ]
  },
  {
   "cell_type": "code",
   "execution_count": null,
   "metadata": {},
   "outputs": [],
   "source": []
  }
 ],
 "metadata": {
  "kernelspec": {
   "display_name": "lgb_02",
   "language": "python",
   "name": "lgb_02"
  },
  "language_info": {
   "codemirror_mode": {
    "name": "ipython",
    "version": 3
   },
   "file_extension": ".py",
   "mimetype": "text/x-python",
   "name": "python",
   "nbconvert_exporter": "python",
   "pygments_lexer": "ipython3",
   "version": "3.6.2"
  }
 },
 "nbformat": 4,
 "nbformat_minor": 2
}

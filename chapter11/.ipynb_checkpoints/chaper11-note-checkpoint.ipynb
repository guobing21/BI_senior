{
 "cells": [
  {
   "cell_type": "markdown",
   "metadata": {},
   "source": [
    "#### 1 scipy的线性规划"
   ]
  },
  {
   "cell_type": "code",
   "execution_count": 1,
   "metadata": {},
   "outputs": [],
   "source": [
    "from scipy import optimize\n",
    "import numpy as np"
   ]
  },
  {
   "cell_type": "code",
   "execution_count": 2,
   "metadata": {},
   "outputs": [],
   "source": [
    "z = np.array([2, 3, 1])"
   ]
  },
  {
   "cell_type": "code",
   "execution_count": 3,
   "metadata": {},
   "outputs": [],
   "source": [
    "a = np.array([[1, 4, 2], [3, 2, 0]])\n",
    "b = np.array([8, 6])"
   ]
  },
  {
   "cell_type": "code",
   "execution_count": 4,
   "metadata": {},
   "outputs": [],
   "source": [
    "x1_bound = x2_bound = x3_bound = (0, None)"
   ]
  },
  {
   "cell_type": "code",
   "execution_count": 5,
   "metadata": {},
   "outputs": [],
   "source": [
    "res = optimize.linprog(z, A_ub=-a, b_ub=-b, bounds=(x1_bound, x2_bound, x3_bound))"
   ]
  },
  {
   "cell_type": "code",
   "execution_count": 6,
   "metadata": {},
   "outputs": [
    {
     "data": {
      "text/plain": [
       "     con: array([], dtype=float64)\n",
       "     fun: 6.99999999487299\n",
       " message: 'Optimization terminated successfully.'\n",
       "     nit: 3\n",
       "   slack: array([ 3.85260890e-09, -1.41066288e-08])\n",
       "  status: 0\n",
       " success: True\n",
       "       x: array([1.17949641, 1.23075538, 0.94874104])"
      ]
     },
     "execution_count": 6,
     "metadata": {},
     "output_type": "execute_result"
    }
   ],
   "source": [
    "res"
   ]
  },
  {
   "cell_type": "markdown",
   "metadata": {},
   "source": [
    "#### 2 pulp包"
   ]
  },
  {
   "cell_type": "code",
   "execution_count": 7,
   "metadata": {},
   "outputs": [],
   "source": [
    "import pulp"
   ]
  },
  {
   "cell_type": "code",
   "execution_count": 8,
   "metadata": {},
   "outputs": [],
   "source": [
    "z = np.array([2, 3, 1])\n",
    "a = np.array([[1, 4, 2], [3, 2, 0]])\n",
    "b = np.array([8, 6])"
   ]
  },
  {
   "cell_type": "code",
   "execution_count": 9,
   "metadata": {},
   "outputs": [
    {
     "data": {
      "text/plain": [
       "lp:\n",
       "MINIMIZE\n",
       "None\n",
       "VARIABLES"
      ]
     },
     "execution_count": 9,
     "metadata": {},
     "output_type": "execute_result"
    }
   ],
   "source": [
    "m = pulp.LpProblem(sense=pulp.LpMinimize, name=\"lp\")\n",
    "m"
   ]
  },
  {
   "cell_type": "code",
   "execution_count": 10,
   "metadata": {},
   "outputs": [
    {
     "data": {
      "text/plain": [
       "[x1, x2, x3]"
      ]
     },
     "execution_count": 10,
     "metadata": {},
     "output_type": "execute_result"
    }
   ],
   "source": [
    "x = [pulp.LpVariable(\"x{}\".format(i), lowBound=0) for i in [1, 2, 3]]\n",
    "x"
   ]
  },
  {
   "cell_type": "code",
   "execution_count": 11,
   "metadata": {},
   "outputs": [
    {
     "data": {
      "text/plain": [
       "pulp.pulp.LpVariable"
      ]
     },
     "execution_count": 11,
     "metadata": {},
     "output_type": "execute_result"
    }
   ],
   "source": [
    "type(x[0])"
   ]
  },
  {
   "cell_type": "code",
   "execution_count": 12,
   "metadata": {},
   "outputs": [],
   "source": [
    "m += pulp.lpDot(z, x)"
   ]
  },
  {
   "cell_type": "code",
   "execution_count": 13,
   "metadata": {},
   "outputs": [
    {
     "data": {
      "text/plain": [
       "lp:\n",
       "MINIMIZE\n",
       "2*x1 + 3*x2 + 1*x3 + 0\n",
       "VARIABLES\n",
       "x1 Continuous\n",
       "x2 Continuous\n",
       "x3 Continuous"
      ]
     },
     "execution_count": 13,
     "metadata": {},
     "output_type": "execute_result"
    }
   ],
   "source": [
    "m"
   ]
  },
  {
   "cell_type": "code",
   "execution_count": 14,
   "metadata": {},
   "outputs": [],
   "source": [
    "for i in range(len(a)):\n",
    "    m += (pulp.lpDot(a[i], x) >= b[i]) "
   ]
  },
  {
   "cell_type": "code",
   "execution_count": 15,
   "metadata": {},
   "outputs": [
    {
     "data": {
      "text/plain": [
       "lp:\n",
       "MINIMIZE\n",
       "2*x1 + 3*x2 + 1*x3 + 0\n",
       "SUBJECT TO\n",
       "_C1: x1 + 4 x2 + 2 x3 >= 8\n",
       "\n",
       "_C2: 3 x1 + 2 x2 >= 6\n",
       "\n",
       "VARIABLES\n",
       "x1 Continuous\n",
       "x2 Continuous\n",
       "x3 Continuous"
      ]
     },
     "execution_count": 15,
     "metadata": {},
     "output_type": "execute_result"
    }
   ],
   "source": [
    "m"
   ]
  },
  {
   "cell_type": "code",
   "execution_count": 16,
   "metadata": {},
   "outputs": [
    {
     "data": {
      "text/plain": [
       "1"
      ]
     },
     "execution_count": 16,
     "metadata": {},
     "output_type": "execute_result"
    }
   ],
   "source": [
    "m.solve()"
   ]
  },
  {
   "cell_type": "code",
   "execution_count": 17,
   "metadata": {},
   "outputs": [
    {
     "name": "stdout",
     "output_type": "stream",
     "text": [
      "优化结果：7.0\n"
     ]
    }
   ],
   "source": [
    "print(\"优化结果：{}\".format(pulp.value(m.objective)))"
   ]
  },
  {
   "cell_type": "code",
   "execution_count": 18,
   "metadata": {},
   "outputs": [
    {
     "name": "stdout",
     "output_type": "stream",
     "text": [
      "参数取值: [2.0, 0.0, 3.0]\n"
     ]
    }
   ],
   "source": [
    "print(\"参数取值: {}\".format([pulp.value(var) for var in x]))"
   ]
  },
  {
   "cell_type": "markdown",
   "metadata": {},
   "source": [
    "#### 3 猫粮求解"
   ]
  },
  {
   "cell_type": "code",
   "execution_count": 1,
   "metadata": {},
   "outputs": [],
   "source": [
    "from pulp import *"
   ]
  },
  {
   "cell_type": "code",
   "execution_count": 26,
   "metadata": {},
   "outputs": [],
   "source": [
    "items = ['chicken', 'beef', 'mutton', 'rice', 'wheat', 'gel']\n",
    "costs = {'chicken': 0.013, \n",
    "         'beef': 0.008, \n",
    "         'mutton': 0.010, \n",
    "         'rice': 0.002, \n",
    "         'wheat': 0.005, \n",
    "         'gel': 0.001}\n",
    "\n",
    "protein = {'chicken': 0.100, \n",
    "            'beef': 0.200, \n",
    "            'mutton': 0.150, \n",
    "            'rice': 0.000, \n",
    "            'wheat': 0.040, \n",
    "            'gel': 0.000}\n",
    "\n",
    "fat = {'chicken': 0.080, \n",
    "        'beef': 0.100, \n",
    "        'mutton': 0.110, \n",
    "        'rice': 0.010, \n",
    "        'wheat': 0.010, \n",
    "        'gel': 0.000}\n",
    "\n",
    "fibre = {'chicken': 0.001, \n",
    "          'beef': 0.005, \n",
    "          'mutton': 0.003, \n",
    "          'rice': 0.100, \n",
    "          'wheat': 0.150, \n",
    "          'gel': 0.000}\n",
    "\n",
    "salt = {'chicken': 0.002, \n",
    "         'beef': 0.005, \n",
    "         'mutton': 0.007, \n",
    "         'rice': 0.002, \n",
    "         'wheat': 0.008, \n",
    "         'gel': 0.000}"
   ]
  },
  {
   "cell_type": "code",
   "execution_count": 27,
   "metadata": {},
   "outputs": [],
   "source": [
    "prob = LpProblem(\"CatFood\", sense=LpMinimize)"
   ]
  },
  {
   "cell_type": "code",
   "execution_count": 28,
   "metadata": {},
   "outputs": [
    {
     "data": {
      "text/plain": [
       "{'chicken': item_chicken,\n",
       " 'beef': item_beef,\n",
       " 'mutton': item_mutton,\n",
       " 'rice': item_rice,\n",
       " 'wheat': item_wheat,\n",
       " 'gel': item_gel}"
      ]
     },
     "execution_count": 28,
     "metadata": {},
     "output_type": "execute_result"
    }
   ],
   "source": [
    "item_vars = LpVariable.dicts(\"item\", items, lowBound=0, upBound=100)\n",
    "item_vars"
   ]
  },
  {
   "cell_type": "code",
   "execution_count": 29,
   "metadata": {},
   "outputs": [
    {
     "data": {
      "text/plain": [
       "CatFood:\n",
       "MINIMIZE\n",
       "0.008*item_beef + 0.013*item_chicken + 0.001*item_gel + 0.01*item_mutton + 0.002*item_rice + 0.005*item_wheat + 0.0\n",
       "VARIABLES\n",
       "item_beef <= 100 Continuous\n",
       "item_chicken <= 100 Continuous\n",
       "item_gel <= 100 Continuous\n",
       "item_mutton <= 100 Continuous\n",
       "item_rice <= 100 Continuous\n",
       "item_wheat <= 100 Continuous"
      ]
     },
     "execution_count": 29,
     "metadata": {},
     "output_type": "execute_result"
    }
   ],
   "source": [
    "prob += lpSum(costs[i]*item_vars[i] for i in items)\n",
    "prob"
   ]
  },
  {
   "cell_type": "code",
   "execution_count": 30,
   "metadata": {},
   "outputs": [
    {
     "data": {
      "text/plain": [
       "CatFood:\n",
       "MINIMIZE\n",
       "0.008*item_beef + 0.013*item_chicken + 0.001*item_gel + 0.01*item_mutton + 0.002*item_rice + 0.005*item_wheat + 0.0\n",
       "SUBJECT TO\n",
       "_C1: item_beef + item_chicken + item_gel + item_mutton + item_rice\n",
       " + item_wheat = 100\n",
       "\n",
       "VARIABLES\n",
       "item_beef <= 100 Continuous\n",
       "item_chicken <= 100 Continuous\n",
       "item_gel <= 100 Continuous\n",
       "item_mutton <= 100 Continuous\n",
       "item_rice <= 100 Continuous\n",
       "item_wheat <= 100 Continuous"
      ]
     },
     "execution_count": 30,
     "metadata": {},
     "output_type": "execute_result"
    }
   ],
   "source": [
    "prob += lpSum([item_vars[i] for i in items]) == 100\n",
    "prob"
   ]
  },
  {
   "cell_type": "code",
   "execution_count": 31,
   "metadata": {},
   "outputs": [
    {
     "data": {
      "text/plain": [
       "CatFood:\n",
       "MINIMIZE\n",
       "0.008*item_beef + 0.013*item_chicken + 0.001*item_gel + 0.01*item_mutton + 0.002*item_rice + 0.005*item_wheat + 0.0\n",
       "SUBJECT TO\n",
       "_C1: item_beef + item_chicken + item_gel + item_mutton + item_rice\n",
       " + item_wheat = 100\n",
       "\n",
       "_C2: 0.2 item_beef + 0.1 item_chicken + 0.15 item_mutton + 0.04 item_wheat\n",
       " >= 8\n",
       "\n",
       "VARIABLES\n",
       "item_beef <= 100 Continuous\n",
       "item_chicken <= 100 Continuous\n",
       "item_gel <= 100 Continuous\n",
       "item_mutton <= 100 Continuous\n",
       "item_rice <= 100 Continuous\n",
       "item_wheat <= 100 Continuous"
      ]
     },
     "execution_count": 31,
     "metadata": {},
     "output_type": "execute_result"
    }
   ],
   "source": [
    "prob += lpSum([protein[i]*item_vars[i] for i in items]) >= 8.0\n",
    "prob"
   ]
  },
  {
   "cell_type": "code",
   "execution_count": 32,
   "metadata": {},
   "outputs": [],
   "source": [
    "prob += lpSum([fat[i]*item_vars[i] for i in items]) >= 6\n",
    "prob += lpSum([fibre[i]*item_vars[i] for i in items]) <= 2\n",
    "prob += lpSum([salt[i]*item_vars[i] for i in items]) <= 0.4"
   ]
  },
  {
   "cell_type": "code",
   "execution_count": 33,
   "metadata": {},
   "outputs": [
    {
     "data": {
      "text/plain": [
       "CatFood:\n",
       "MINIMIZE\n",
       "0.008*item_beef + 0.013*item_chicken + 0.001*item_gel + 0.01*item_mutton + 0.002*item_rice + 0.005*item_wheat + 0.0\n",
       "SUBJECT TO\n",
       "_C1: item_beef + item_chicken + item_gel + item_mutton + item_rice\n",
       " + item_wheat = 100\n",
       "\n",
       "_C2: 0.2 item_beef + 0.1 item_chicken + 0.15 item_mutton + 0.04 item_wheat\n",
       " >= 8\n",
       "\n",
       "_C3: 0.1 item_beef + 0.08 item_chicken + 0.11 item_mutton + 0.01 item_rice\n",
       " + 0.01 item_wheat >= 6\n",
       "\n",
       "_C4: 0.005 item_beef + 0.001 item_chicken + 0.003 item_mutton + 0.1 item_rice\n",
       " + 0.15 item_wheat <= 2\n",
       "\n",
       "_C5: 0.005 item_beef + 0.002 item_chicken + 0.007 item_mutton\n",
       " + 0.002 item_rice + 0.008 item_wheat <= 0.4\n",
       "\n",
       "VARIABLES\n",
       "item_beef <= 100 Continuous\n",
       "item_chicken <= 100 Continuous\n",
       "item_gel <= 100 Continuous\n",
       "item_mutton <= 100 Continuous\n",
       "item_rice <= 100 Continuous\n",
       "item_wheat <= 100 Continuous"
      ]
     },
     "execution_count": 33,
     "metadata": {},
     "output_type": "execute_result"
    }
   ],
   "source": [
    "prob"
   ]
  },
  {
   "cell_type": "code",
   "execution_count": 34,
   "metadata": {},
   "outputs": [
    {
     "data": {
      "text/plain": [
       "1"
      ]
     },
     "execution_count": 34,
     "metadata": {},
     "output_type": "execute_result"
    }
   ],
   "source": [
    "prob.solve()"
   ]
  },
  {
   "cell_type": "code",
   "execution_count": 35,
   "metadata": {},
   "outputs": [
    {
     "data": {
      "text/plain": [
       "1"
      ]
     },
     "execution_count": 35,
     "metadata": {},
     "output_type": "execute_result"
    }
   ],
   "source": [
    "prob.status"
   ]
  },
  {
   "cell_type": "code",
   "execution_count": 36,
   "metadata": {},
   "outputs": [
    {
     "data": {
      "text/plain": [
       "{0: 'Not Solved',\n",
       " 1: 'Optimal',\n",
       " -1: 'Infeasible',\n",
       " -2: 'Unbounded',\n",
       " -3: 'Undefined'}"
      ]
     },
     "execution_count": 36,
     "metadata": {},
     "output_type": "execute_result"
    }
   ],
   "source": [
    "LpStatus"
   ]
  },
  {
   "cell_type": "code",
   "execution_count": 37,
   "metadata": {},
   "outputs": [
    {
     "name": "stdout",
     "output_type": "stream",
     "text": [
      "item_chicken = 0.0\n",
      "item_beef = 60.0\n",
      "item_mutton = 0.0\n",
      "item_rice = 0.0\n",
      "item_wheat = 0.0\n",
      "item_gel = 40.0\n"
     ]
    }
   ],
   "source": [
    "for i in items:\n",
    "    print(\"{} = {}\".format(item_vars[i], item_vars[i].value()))"
   ]
  }
 ],
 "metadata": {
  "kernelspec": {
   "display_name": "lgb_02",
   "language": "python",
   "name": "lgb_02"
  },
  "language_info": {
   "codemirror_mode": {
    "name": "ipython",
    "version": 3
   },
   "file_extension": ".py",
   "mimetype": "text/x-python",
   "name": "python",
   "nbconvert_exporter": "python",
   "pygments_lexer": "ipython3",
   "version": "3.6.2"
  }
 },
 "nbformat": 4,
 "nbformat_minor": 2
}

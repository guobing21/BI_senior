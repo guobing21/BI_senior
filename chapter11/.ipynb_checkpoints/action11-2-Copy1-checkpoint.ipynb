{
 "cells": [
  {
   "cell_type": "code",
   "execution_count": 1,
   "metadata": {},
   "outputs": [],
   "source": [
    "import pulp\n",
    "import numpy as np\n",
    "from pprint import pprint"
   ]
  },
  {
   "cell_type": "code",
   "execution_count": 2,
   "metadata": {},
   "outputs": [],
   "source": [
    "def transportation_problem(costs, x_max, y_max):\n",
    "    row = len(costs)\n",
    "    col = len(costs[0])\n",
    "    print(f'row:{row} col:{col}')\n",
    "    # 定义初始问题\n",
    "    prob = pulp.LpProblem('Transportation', sense=pulp.LpMaximize)\n",
    "    # 定义相关变量\n",
    "    var = [[pulp.LpVariable(f'x{i}{j}', lowBound=0, cat=pulp.LpInteger) for j in range(col)] for i in range(row)]\n",
    "    # 递归展开列表\n",
    "    flatten = lambda x: [y for l in x for y in flatten(l)] if type(x) is list else [x]\n",
    "    print('var=', var)\n",
    "    print('flatten=', flatten)\n",
    "    print('var[1]', var[1])\n",
    "    # 定义目标函数 （单价* {ij}运量）\n",
    "    prob += pulp.lpDot(flatten(var), costs.flatten())\n",
    "    # 定义约束条件\n",
    "    for i in range(row):\n",
    "        prob += pulp.lpSum(var[i]) <= x_max[i]\n",
    "    for j in range(col):\n",
    "        prob += pulp.lpSum([var[i][j] for i in range(row)]) <= y_max[j]\n",
    "\n",
    "    prob.solve()\n",
    "    result = {'objective':pulp.value(prob.objective), \\\n",
    "              'var': [[pulp.value(var[i][j]) for j in range(col)] for i in range(row)]}\n",
    "    return result"
   ]
  },
  {
   "cell_type": "code",
   "execution_count": 3,
   "metadata": {},
   "outputs": [],
   "source": [
    "costs = np.array([[500, 550, 630, 1000, 800, 700],\n",
    "                      [800, 700, 600, 950, 900, 930],\n",
    "                      [1000, 960, 840, 650, 600, 700],\n",
    "                      [1200, 1040, 980, 860, 880, 780]])\n",
    "\n",
    "max_plant = [76, 88, 96, 40]\n",
    "max_cultivation = [42, 56, 44, 39, 60, 59]"
   ]
  },
  {
   "cell_type": "code",
   "execution_count": 4,
   "metadata": {},
   "outputs": [
    {
     "name": "stdout",
     "output_type": "stream",
     "text": [
      "row:4 col:6\n",
      "var= [[x00, x01, x02, x03, x04, x05], [x10, x11, x12, x13, x14, x15], [x20, x21, x22, x23, x24, x25], [x30, x31, x32, x33, x34, x35]]\n",
      "flatten= <function transportation_problem.<locals>.<lambda> at 0x000001DEDC54BD08>\n",
      "var[1] [x10, x11, x12, x13, x14, x15]\n"
     ]
    }
   ],
   "source": [
    "result = transportation_problem(costs, max_plant, max_cultivation)"
   ]
  },
  {
   "cell_type": "code",
   "execution_count": 5,
   "metadata": {},
   "outputs": [
    {
     "name": "stdout",
     "output_type": "stream",
     "text": [
      "最大值为284230.0\n"
     ]
    }
   ],
   "source": [
    "print(f'最大值为{result[\"objective\"]}')"
   ]
  },
  {
   "cell_type": "code",
   "execution_count": 6,
   "metadata": {},
   "outputs": [
    {
     "name": "stdout",
     "output_type": "stream",
     "text": [
      "各变量的取值为：\n",
      "[[0.0, 0.0, 6.0, 39.0, 31.0, 0.0],\n",
      " [0.0, 0.0, 0.0, 0.0, 29.0, 59.0],\n",
      " [2.0, 56.0, 38.0, 0.0, 0.0, 0.0],\n",
      " [40.0, 0.0, 0.0, 0.0, 0.0, 0.0]]\n"
     ]
    }
   ],
   "source": [
    "print('各变量的取值为：')\n",
    "pprint(result['var'])"
   ]
  },
  {
   "cell_type": "code",
   "execution_count": null,
   "metadata": {},
   "outputs": [],
   "source": []
  }
 ],
 "metadata": {
  "kernelspec": {
   "display_name": "lgb_02",
   "language": "python",
   "name": "lgb_02"
  },
  "language_info": {
   "codemirror_mode": {
    "name": "ipython",
    "version": 3
   },
   "file_extension": ".py",
   "mimetype": "text/x-python",
   "name": "python",
   "nbconvert_exporter": "python",
   "pygments_lexer": "ipython3",
   "version": "3.6.2"
  }
 },
 "nbformat": 4,
 "nbformat_minor": 2
}
